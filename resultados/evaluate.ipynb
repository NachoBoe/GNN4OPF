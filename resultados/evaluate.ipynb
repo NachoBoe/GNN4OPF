{
 "cells": [
  {
   "cell_type": "code",
   "execution_count": 1,
   "metadata": {},
   "outputs": [
    {
     "ename": "ImportError",
     "evalue": "cannot import name 'GNN_global' from 'scripts.arquitecturas' (/home/iboero/Documents/GNN4OPF/Entrenar/scripts/arquitecturas.py)",
     "output_type": "error",
     "traceback": [
      "\u001b[0;31m---------------------------------------------------------------------------\u001b[0m",
      "\u001b[0;31mImportError\u001b[0m                               Traceback (most recent call last)",
      "Cell \u001b[0;32mIn[1], line 7\u001b[0m\n\u001b[1;32m      3\u001b[0m \u001b[38;5;28;01mfrom\u001b[39;00m \u001b[38;5;21;01momegaconf\u001b[39;00m \u001b[38;5;28;01mimport\u001b[39;00m OmegaConf\n\u001b[1;32m      6\u001b[0m \u001b[38;5;66;03m# sys.path.append(str(Path(__file__).parents[1]))\u001b[39;00m\n\u001b[0;32m----> 7\u001b[0m \u001b[38;5;28;01mfrom\u001b[39;00m \u001b[38;5;21;01mscripts\u001b[39;00m\u001b[38;5;21;01m.\u001b[39;00m\u001b[38;5;21;01marquitecturas\u001b[39;00m \u001b[38;5;28;01mimport\u001b[39;00m GNN_global, FCNN_global, GNN_Local\n\u001b[1;32m      8\u001b[0m \u001b[38;5;28;01mfrom\u001b[39;00m \u001b[38;5;21;01mscripts\u001b[39;00m\u001b[38;5;21;01m.\u001b[39;00m\u001b[38;5;21;01mData_loader\u001b[39;00m \u001b[38;5;28;01mimport\u001b[39;00m load_net, load_data\n\u001b[1;32m     10\u001b[0m \u001b[38;5;28;01mimport\u001b[39;00m \u001b[38;5;21;01mjulia\u001b[39;00m\n",
      "\u001b[0;31mImportError\u001b[0m: cannot import name 'GNN_global' from 'scripts.arquitecturas' (/home/iboero/Documents/GNN4OPF/Entrenar/scripts/arquitecturas.py)"
     ]
    }
   ],
   "source": [
    "import torch\n",
    "\n",
    "from omegaconf import OmegaConf\n",
    "\n",
    "\n",
    "# sys.path.append(str(Path(__file__).parents[1]))\n",
    "from scripts.arquitecturas import GNN_global, FCNN_global, GNN_Local\n",
    "from scripts.Data_loader import load_net, load_data\n",
    "\n",
    "import julia\n",
    "julia.install()\n",
    "\n",
    "from julia.api import Julia\n",
    "jl = Julia(compiled_modules=False)\n",
    "\n",
    "import warnings\n",
    "warnings.filterwarnings('ignore')"
   ]
  },
  {
   "cell_type": "markdown",
   "metadata": {},
   "source": [
    "## Levantar la red"
   ]
  },
  {
   "cell_type": "code",
   "execution_count": 4,
   "metadata": {},
   "outputs": [
    {
     "ename": "FileNotFoundError",
     "evalue": "[Errno 2] No such file or directory: '/home/iboero/Documents/GNN4OPF/runs/uru/q_switch_shunt_opt/GNN_local/best-05-21_22:21:19/config.yaml'",
     "output_type": "error",
     "traceback": [
      "\u001b[0;31m---------------------------------------------------------------------------\u001b[0m",
      "\u001b[0;31mFileNotFoundError\u001b[0m                         Traceback (most recent call last)",
      "Cell \u001b[0;32mIn[4], line 5\u001b[0m\n\u001b[1;32m      2\u001b[0m dt_v \u001b[38;5;241m=\u001b[39m \u001b[38;5;124m\"\u001b[39m\u001b[38;5;124mbest\u001b[39m\u001b[38;5;124m\"\u001b[39m\n\u001b[1;32m      3\u001b[0m dt_q \u001b[38;5;241m=\u001b[39m \u001b[38;5;124m\"\u001b[39m\u001b[38;5;124mbest-05-21_22:21:19\u001b[39m\u001b[38;5;124m\"\u001b[39m\n\u001b[0;32m----> 5\u001b[0m cfg_q \u001b[38;5;241m=\u001b[39m \u001b[43mOmegaConf\u001b[49m\u001b[38;5;241;43m.\u001b[39;49m\u001b[43mload\u001b[49m\u001b[43m(\u001b[49m\u001b[38;5;124;43m\"\u001b[39;49m\u001b[38;5;124;43m./runs/uru/q_switch_shunt_opt/GNN_local/\u001b[39;49m\u001b[38;5;124;43m\"\u001b[39;49m\u001b[43m \u001b[49m\u001b[38;5;241;43m+\u001b[39;49m\u001b[43m \u001b[49m\u001b[43mdt_q\u001b[49m\u001b[43m \u001b[49m\u001b[38;5;241;43m+\u001b[39;49m\u001b[43m \u001b[49m\u001b[38;5;124;43m\"\u001b[39;49m\u001b[38;5;124;43m/config.yaml\u001b[39;49m\u001b[38;5;124;43m\"\u001b[39;49m\u001b[43m)\u001b[49m\n\u001b[1;32m      6\u001b[0m weights_dir_q \u001b[38;5;241m=\u001b[39m \u001b[38;5;124m\"\u001b[39m\u001b[38;5;124m./runs/uru/q_switch_shunt_opt/GNN_local/\u001b[39m\u001b[38;5;124m\"\u001b[39m \u001b[38;5;241m+\u001b[39m dt_q \u001b[38;5;241m+\u001b[39m \u001b[38;5;124m\"\u001b[39m\u001b[38;5;124m/weights/best_model.pt\u001b[39m\u001b[38;5;124m\"\u001b[39m\n\u001b[1;32m      8\u001b[0m cfg_v \u001b[38;5;241m=\u001b[39m OmegaConf\u001b[38;5;241m.\u001b[39mload(\u001b[38;5;124m\"\u001b[39m\u001b[38;5;124m./runs/uru/vm_pu_opt/GNN_local/\u001b[39m\u001b[38;5;124m\"\u001b[39m \u001b[38;5;241m+\u001b[39m dt_v \u001b[38;5;241m+\u001b[39m \u001b[38;5;124m\"\u001b[39m\u001b[38;5;124m/config.yaml\u001b[39m\u001b[38;5;124m\"\u001b[39m)\n",
      "File \u001b[0;32m~/miniconda3/envs/proy/lib/python3.11/site-packages/omegaconf/omegaconf.py:189\u001b[0m, in \u001b[0;36mOmegaConf.load\u001b[0;34m(file_)\u001b[0m\n\u001b[1;32m    186\u001b[0m \u001b[38;5;28;01mfrom\u001b[39;00m \u001b[38;5;21;01m.\u001b[39;00m\u001b[38;5;21;01m_utils\u001b[39;00m \u001b[38;5;28;01mimport\u001b[39;00m get_yaml_loader\n\u001b[1;32m    188\u001b[0m \u001b[38;5;28;01mif\u001b[39;00m \u001b[38;5;28misinstance\u001b[39m(file_, (\u001b[38;5;28mstr\u001b[39m, pathlib\u001b[38;5;241m.\u001b[39mPath)):\n\u001b[0;32m--> 189\u001b[0m     \u001b[38;5;28;01mwith\u001b[39;00m \u001b[43mio\u001b[49m\u001b[38;5;241;43m.\u001b[39;49m\u001b[43mopen\u001b[49m\u001b[43m(\u001b[49m\u001b[43mos\u001b[49m\u001b[38;5;241;43m.\u001b[39;49m\u001b[43mpath\u001b[49m\u001b[38;5;241;43m.\u001b[39;49m\u001b[43mabspath\u001b[49m\u001b[43m(\u001b[49m\u001b[43mfile_\u001b[49m\u001b[43m)\u001b[49m\u001b[43m,\u001b[49m\u001b[43m \u001b[49m\u001b[38;5;124;43m\"\u001b[39;49m\u001b[38;5;124;43mr\u001b[39;49m\u001b[38;5;124;43m\"\u001b[39;49m\u001b[43m,\u001b[49m\u001b[43m \u001b[49m\u001b[43mencoding\u001b[49m\u001b[38;5;241;43m=\u001b[39;49m\u001b[38;5;124;43m\"\u001b[39;49m\u001b[38;5;124;43mutf-8\u001b[39;49m\u001b[38;5;124;43m\"\u001b[39;49m\u001b[43m)\u001b[49m \u001b[38;5;28;01mas\u001b[39;00m f:\n\u001b[1;32m    190\u001b[0m         obj \u001b[38;5;241m=\u001b[39m yaml\u001b[38;5;241m.\u001b[39mload(f, Loader\u001b[38;5;241m=\u001b[39mget_yaml_loader())\n\u001b[1;32m    191\u001b[0m \u001b[38;5;28;01melif\u001b[39;00m \u001b[38;5;28mgetattr\u001b[39m(file_, \u001b[38;5;124m\"\u001b[39m\u001b[38;5;124mread\u001b[39m\u001b[38;5;124m\"\u001b[39m, \u001b[38;5;28;01mNone\u001b[39;00m):\n",
      "\u001b[0;31mFileNotFoundError\u001b[0m: [Errno 2] No such file or directory: '/home/iboero/Documents/GNN4OPF/runs/uru/q_switch_shunt_opt/GNN_local/best-05-21_22:21:19/config.yaml'"
     ]
    }
   ],
   "source": [
    "# Load q shunt model\n",
    "dt_v = \"best\"\n",
    "dt_q = \"best-05-21_22:21:19\"\n",
    "\n",
    "cfg_q = OmegaConf.load(\"./runs/uru/q_switch_shunt_opt/GNN_local/\" + dt_q + \"/config.yaml\")\n",
    "weights_dir_q = \"./runs/uru/q_switch_shunt_opt/GNN_local/\" + dt_q + \"/weights/best_model.pt\"\n",
    "\n",
    "cfg_v = OmegaConf.load(\"./runs/uru/vm_pu_opt/GNN_local/\" + dt_v + \"/config.yaml\")\n",
    "weights_dir_v = \"./runs/uru/vm_pu_opt/GNN_local/\" + dt_v + \"/weights/best_model.pt\"\n",
    "# Set device\n",
    "torch.manual_seed(cfg_q.training.seed)\n",
    "device = cfg_q.training.device\n",
    "\n",
    "# Set network\n",
    "num_nodes, num_gens, edge_index, edge_weights, feature_mask, net = load_net(cfg_q.data.red,cfg_q.data.red_path,cfg_q.data.target,device)\n",
    "\n",
    "# Set model\n",
    "if cfg_q.model.model == 'GNN_global':\n",
    "    model_vm_pu = GNN_global(cfg_v.model.layers,edge_index,edge_weights,len(cfg_v.model.layers)-1,cfg_v.model.K,num_nodes,num_gens, feature_mask, cfg_v.model.batch_norm).to(device)\n",
    "    model_q_shunt = GNN_global(cfg_q.model.layers,edge_index,edge_weights,len(cfg_q.model.layers)-1,cfg_q.model.K,num_nodes,num_gens, feature_mask, cfg_q.model.batch_norm).to(device)\n",
    "\n",
    "elif cfg_q.model.model == 'FCNN_global':\n",
    "    # Add in and out dimension\n",
    "    cfg_q.model.layers[0] *= num_nodes\n",
    "    model_q_shunt = FCNN_global(cfg_q.model.layers,len(cfg_q.model.layers)-1,num_nodes, feature_mask, cfg_q.model.batch_norm).to(device)\n",
    "    cfg_v.model.layers[0] *= num_nodes\n",
    "    model_vm_pu = FCNN_global(cfg_v.model.layers,len(cfg_v.model.layers)-1,num_nodes, feature_mask, cfg_v.model.batch_norm).to(device)\n",
    "\n",
    "elif cfg_q.model.model == 'GNN_local':\n",
    "    model_q_shunt = GNN_Local(cfg_q.model.layers,edge_index,edge_weights,len(cfg_q.model.layers)-1,cfg_q.model.K,feature_mask,num_nodes,cfg_q.model.batch_norm).to(device)\n",
    "    model_vm_pu = GNN_Local(cfg_v.model.layers,edge_index,edge_weights,len(cfg_v.model.layers)-1,cfg_v.model.K,feature_mask,num_nodes,cfg_v.model.batch_norm).to(device)\n",
    "\n",
    "elif cfg_q.model.model == 'FCNN_local':\n",
    "    K = [0 for i in range(len(cfg_q.model.layers)-1)]\n",
    "    model_q_shunt = GNN_Local(cfg_q.model.layers,edge_index,edge_weights,len(cfg_q.model.layers)-1,K,feature_mask,num_nodes,cfg_q.model.batch_norm).to(device)\n",
    "    K = [0 for i in range(len(cfg_v.model.layers)-1)]\n",
    "    model_vm_pu = GNN_Local(cfg_v.model.layers,edge_index,edge_weights,len(cfg_v.model.layers)-1,K,feature_mask,num_nodes,cfg_v.model.batch_norm).to(device)\n",
    "\n",
    "# Cargo los pesos al modelo guardados en weights_dir +weights.pt\n",
    "model_q_shunt.load_state_dict(torch.load(weights_dir_q))\n",
    "model_vm_pu.load_state_dict(torch.load(weights_dir_v))\n",
    "\n",
    "# Load data\n",
    "train_loader_vm_pu, val_loader_vm_pu, test_loader_vm_pu = load_data(cfg_v.data.data_path, cfg_v.training.batch_size, cfg_v.data.normalize_X, cfg_v.data.normalize_Y,cfg_v.data.target,device)\n",
    "train_loader_q_shunt, val_loader_q_shunt, test_loader_q_shunt = load_data(cfg_q.data.data_path, cfg_q.training.batch_size, cfg_q.data.normalize_X, cfg_q.data.normalize_Y,cfg_q.data.target,device)"
   ]
  },
  {
   "cell_type": "code",
   "execution_count": 1,
   "metadata": {},
   "outputs": [
    {
     "ename": "NameError",
     "evalue": "name 'train_loader_q_shunt' is not defined",
     "output_type": "error",
     "traceback": [
      "\u001b[0;31m---------------------------------------------------------------------------\u001b[0m",
      "\u001b[0;31mNameError\u001b[0m                                 Traceback (most recent call last)",
      "Cell \u001b[0;32mIn[1], line 6\u001b[0m\n\u001b[1;32m      3\u001b[0m         \u001b[38;5;28;01massert\u001b[39;00m torch\u001b[38;5;241m.\u001b[39mequal(x1, x2), \u001b[38;5;124m\"\u001b[39m\u001b[38;5;124mInputs x from both loaders must be the same\u001b[39m\u001b[38;5;124m\"\u001b[39m\n\u001b[1;32m      4\u001b[0m         \u001b[38;5;28;01myield\u001b[39;00m x1, y1, y2\n\u001b[0;32m----> 6\u001b[0m combined_data_loader \u001b[38;5;241m=\u001b[39m combined_loader(\u001b[43mtrain_loader_q_shunt\u001b[49m, train_loader_vm_pu)\n",
      "\u001b[0;31mNameError\u001b[0m: name 'train_loader_q_shunt' is not defined"
     ]
    }
   ],
   "source": [
    "\n",
    "def combined_loader(loader1, loader2):\n",
    "    for (x1, y1), (x2, y2) in zip(loader1, loader2):\n",
    "        assert torch.equal(x1, x2), \"Inputs x from both loaders must be the same\"\n",
    "        yield x1, y1, y2\n",
    "\n",
    "combined_data_loader = combined_loader(train_loader_q_shunt, train_loader_vm_pu)\n"
   ]
  },
  {
   "cell_type": "code",
   "execution_count": 16,
   "metadata": {},
   "outputs": [
    {
     "data": {
      "text/plain": [
       "(['05-29_22:00:07',\n",
       "  '05-29_23:06:32',\n",
       "  '05-29_20:36:07',\n",
       "  '05-29_22:41:33',\n",
       "  '05-29_23:29:33',\n",
       "  '05-30_03:00:29',\n",
       "  '05-29_21:07:27',\n",
       "  '05-30_03:29:03',\n",
       "  '05-29_22:29:46',\n",
       "  '05-30_01:33:51'],\n",
       " [0.015726665190110605,\n",
       "  0.005528331837720341,\n",
       "  0.05067149177193642,\n",
       "  0.0472373039358192,\n",
       "  0.0024466581073486144,\n",
       "  0.027218145007888477,\n",
       "  0.16066426701015896,\n",
       "  0.07831122146712409,\n",
       "  0.09444815665483475,\n",
       "  0.2715993755393558],\n",
       " [0.010627776165023231,\n",
       "  0.010069444410133238,\n",
       "  0.009201380271755173,\n",
       "  0.008816166482034829,\n",
       "  0.010995950791633355,\n",
       "  0.00998782461144215,\n",
       "  0.009511426666403665,\n",
       "  0.01084863658761258,\n",
       "  0.011066259286587428,\n",
       "  0.01046679168456493],\n",
       " [0.048786989606306466,\n",
       "  0.05108213331868691,\n",
       "  0.05290767099422099,\n",
       "  0.053876488993722244,\n",
       "  0.061406658451306675,\n",
       "  0.06672292969714216,\n",
       "  0.06756328048691475,\n",
       "  0.07086604860123596,\n",
       "  0.0741554921757729,\n",
       "  0.08294787579146562])"
      ]
     },
     "execution_count": 16,
     "metadata": {},
     "output_type": "execute_result"
    }
   ],
   "source": [
    "import os\n",
    "import argparse\n",
    "import json\n",
    "\n",
    "def find_best_run(path, k=10):\n",
    "    '''\n",
    "    Encuentra los mejores k entrenamientos en un directorio, a partir de los info.json\n",
    "    '''\n",
    "    entrenamiento = []\n",
    "    val_loss = []\n",
    "    feasibility = []\n",
    "    voltage_setpoint = []\n",
    "\n",
    "    for file in os.listdir(path):\n",
    "        with open(os.path.join(path, file,'best_model_info.json'), 'r') as f:\n",
    "            datos = json.load(f)\n",
    "        val_loss.append(datos['val_loss'])\n",
    "        feasibility.append(datos['feasibility_metric'])\n",
    "        voltage_setpoint.append(datos['voltaje_setpoint_metric'])\n",
    "        entrenamiento.append(datos['model_name'].split('/')[-1])\n",
    "\n",
    "\n",
    "    indices_ordenados = sorted(range(len(voltage_setpoint)), key=lambda i: voltage_setpoint[i], reverse=False)\n",
    "    best_values = indices_ordenados[:k]\n",
    "    k_best_losses = [val_loss[i] for i in best_values]\n",
    "    k_best_feasibilities = [feasibility[i] for i in best_values]\n",
    "    k_best_voltage_setpoints = [voltage_setpoint[i] for i in best_values]\n",
    "    k_best_trains = [entrenamiento[i] for i in best_values]\n",
    "\n",
    "    return k_best_trains, k_best_losses, k_best_feasibilities, k_best_voltage_setpoints\n",
    "\n",
    "find_best_run('/home/iboero/Tesis/unsupervised_ieee/GNN4OPF/resultados/runs/30')"
   ]
  }
 ],
 "metadata": {
  "kernelspec": {
   "display_name": "proy",
   "language": "python",
   "name": "python3"
  },
  "language_info": {
   "codemirror_mode": {
    "name": "ipython",
    "version": 3
   },
   "file_extension": ".py",
   "mimetype": "text/x-python",
   "name": "python",
   "nbconvert_exporter": "python",
   "pygments_lexer": "ipython3",
   "version": "3.11.7"
  }
 },
 "nbformat": 4,
 "nbformat_minor": 2
}
