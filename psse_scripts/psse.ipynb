{
 "cells": [
  {
   "cell_type": "code",
   "execution_count": 3,
   "metadata": {},
   "outputs": [],
   "source": [
    "# import psspy\n",
    "import numpy as np\n",
    "import pandas\n",
    "# psspy.psseinit()"
   ]
  },
  {
   "cell_type": "code",
   "execution_count": null,
   "metadata": {},
   "outputs": [],
   "source": [
    "sav_file_path = './DORAA_una_carga.sav'\n",
    "ierr = psspy.case(sav_file_path)\n",
    "\n",
    "load_P_data = pandas.read_csv('./scripts/datos_ute_para_psse/PLOAD.csv')\n",
    "load_Q_data = pandas.read_csv('./scripts/datos_ute_para_psse/QLOAD.csv')\n",
    "gen_P_data = pandas.read_csv('./scripts/datos_ute_para_psse/PGEN.csv')\n",
    "gen_Q_data = pandas.read_csv('./scripts/datos_ute_para_psse/QGEN.csv')\n",
    "\n",
    "# Get list of columns\n",
    "columns_load_P = load_P_data.columns.tolist().remove(\"fecha\")\n",
    "columns_load_Q = load_Q_data.columns.tolist().remove(\"fecha\")\n",
    "comumns_gen_P = gen_P_data.columns.tolist().remove(\"fecha\")\n",
    "columns_gen_Q = gen_Q_data.columns.tolist().remove(\"fecha\")\n",
    "\n",
    "cant_datos = load_P_data.shape[0]\n",
    "\n",
    "# Values of default loads for buses that dont have Qload\n",
    "ierr, [load_numbers] = psspy.aloadint(sid=-1, flag=4, string=\"NUMBER\")\n",
    "ierr, [loads] = psspy.aloadcplx(sid=-1, flag=4, string=\"TOTALACT\") # si P es negativa va a 0 todo\n",
    "Qloads_dict = {}\n",
    "for load_number, load_value in zip(load_numbers, loads):\n",
    "    Qloads_dict[load_number] = load_value.imag\n",
    "\n",
    "# Values of default gens for buses that dont have Qgen\n",
    "# ierr, [machine_numbers] = psspy.amachint(sid=-1, flag=4, string=\"NUMBER\")\n",
    "# ierr, [machineIDs] = psspy.amachchar(sid=-1, flag=4, string=\"ID\")\n",
    "# ierr, [Pgen] = psspy.amachreal(sid=-1, flag=4, string=\"PGEN\")\n",
    "\n",
    "for index in range(cant_datos):\n",
    "    for column in columns_load_P:\n",
    "        Pload = load_P_data.loc[index, column]\n",
    "        if column in columns_load_Q:\n",
    "            Qload = load_Q_data.loc[index, column]\n",
    "        else:\n",
    "            Qload = Qloads_dict[column]\n",
    "            Qload *= np.random.uniform(0.8, 1.2)\n",
    "        ierr = psspy.load_data_3(int(column), \"1\", realar1=Pload, realar2=Qload)\n",
    "    for column in comumns_gen_P:\n",
    "        bus_number,id_gen = column.split('_')\n",
    "        Pgen = gen_P_data.loc[index,column]\n",
    "        if column in columns_gen_Q:\n",
    "            Qgen = gen_Q_data.loc[index,column]\n",
    "        else:\n",
    "            Qgen = 0 # si la Q gen no esta en datos UTE poner uniforme del valor default en psse\n",
    "        ierr = psspy.machine_data_2(int(bus_number), int(id_gen), realar1=Pgen, realar2=Qgen)\n",
    "\n",
    "    # Run power flow\n",
    "    ierr = psspy.fnsl()\n",
    "    ierr, [voltajes,angles] = psspy.abusreal(-1,2,string=[\"PU\",\"ANGLED\"]) \n",
    "\n",
    "    # Run OPF\n",
    "\n",
    "    # Save data in  npy file\n",
    "    break"
   ]
  },
  {
   "cell_type": "code",
   "execution_count": 7,
   "metadata": {},
   "outputs": [
    {
     "data": {
      "text/plain": [
       "25"
      ]
     },
     "execution_count": 7,
     "metadata": {},
     "output_type": "execute_result"
    }
   ],
   "source": [
    "df.loc[0, 'Age']"
   ]
  },
  {
   "cell_type": "code",
   "execution_count": 8,
   "metadata": {},
   "outputs": [
    {
     "data": {
      "text/plain": [
       "10"
      ]
     },
     "execution_count": 8,
     "metadata": {},
     "output_type": "execute_result"
    }
   ],
   "source": [
    "a = {'1':10, '2':20}\n",
    "a[\"1\"]"
   ]
  }
 ],
 "metadata": {
  "kernelspec": {
   "display_name": "Python 3",
   "language": "python",
   "name": "python3"
  },
  "language_info": {
   "codemirror_mode": {
    "name": "ipython",
    "version": 3
   },
   "file_extension": ".py",
   "mimetype": "text/x-python",
   "name": "python",
   "nbconvert_exporter": "python",
   "pygments_lexer": "ipython3",
   "version": "3.9.16"
  }
 },
 "nbformat": 4,
 "nbformat_minor": 2
}
