{
 "cells": [
  {
   "cell_type": "code",
   "execution_count": 3,
   "metadata": {},
   "outputs": [],
   "source": [
    "import pandas as pd\n",
    "import os\n",
    "import pandas as pd\n",
    "\n",
    "datos_path = '/Users/tomasvazquez/Desktop/Facultad/Tesis/Datos/'"
   ]
  },
  {
   "cell_type": "markdown",
   "metadata": {},
   "source": [
    "### Para generar el csv con los 3 años concatenados"
   ]
  },
  {
   "cell_type": "code",
   "execution_count": 38,
   "metadata": {},
   "outputs": [],
   "source": [
    "GEN = pd.read_excel(datos_path+'GEN.xlsx', sheet_name='2021')"
   ]
  },
  {
   "cell_type": "code",
   "execution_count": 39,
   "metadata": {},
   "outputs": [],
   "source": [
    "GEN2 = pd.read_excel(datos_path+'GEN.xlsx', sheet_name='2022')\n",
    "GEN3 = pd.read_excel(datos_path+'GEN.xlsx', sheet_name='2023')"
   ]
  },
  {
   "cell_type": "code",
   "execution_count": 40,
   "metadata": {},
   "outputs": [],
   "source": [
    "df_concatenado = pd.concat([GEN, GEN2, GEN3])"
   ]
  },
  {
   "cell_type": "code",
   "execution_count": 41,
   "metadata": {},
   "outputs": [],
   "source": [
    "df_concatenado.to_csv(datos_path + 'GEN_total.csv', index=False)"
   ]
  },
  {
   "cell_type": "code",
   "execution_count": 42,
   "metadata": {},
   "outputs": [
    {
     "name": "stderr",
     "output_type": "stream",
     "text": [
      "/var/folders/pq/p8msjkrx53q8b1ts29trjghw0000gn/T/ipykernel_93294/81847354.py:1: DtypeWarning: Columns (1,2,3,4,5,6,7,8,9,10,11,12,13,14,15,16,17,18,19,20,21,22,23,24,25,26,27,28,29,30,31,32,33,34,35,36,37,38,39,40,41,42,43,44,45,46,47,48,49,50,51,52,53,54,55,56,57,58,59,60,61,62,63,64,65,66,67,68,69,70,71,72,73,74,75,76,77,78,79,80,81,82,83,84,85,86,87,88,89,90,91,92,93,94,95,96,97,98,99,100,101,102,103,104,105,106,107,108,109,110,111,112,113,114,115,116,117,118,119,120,121,122,123,124,125,126,127,128,129,130,131,132,133,134,135,136,137,138,139,140,141,142,143,144,145,146,147,148,149,150,151,152,153,154,155,156,157,158,159,160,161,162,163,164,165,166,167,168,169,170,171,172,173,174,175,176,177,178,179,180,181,182,183,184,185,186,187,188,189,190,191,192,193,194,195,196,197,198,199,200,201,202,203,204,205,206,207,208,209,210,211,212,213,214,215,216,217,218,219,220,221,222,223,224,225,226,227,228,229,230,231,232,233,234,235,236,237,238,239,240,241,242,243,244,245,246,247,248,249,250,251,252,253,254,255,256,257,258,259,260,261,262,263,264,265,266,267,268,269,270,271,272,273,274,275,276,277,278,279,280,281,282,283,284,285,286,287,288,289,290,291,292,293,294,295,296,297,298,299,300,301,302,303,304,305,306,307,308,309,310,311,312,313,314,315,316,317,318,319,320,321,322,323,324,325,326,327,328,329,330,331,332,333,334,335,336,337,338,339,340,341,342,343,344,345,346,347,348,349,350,351,352,353,354,355,356,357,358,359,360,361,362,363,364,365,366,367,368,369,370,371,372,373,374,375,376,377,378,379,380,381,382,383,384,385,386,387,388,389,390,391,392,393,394,395,396,397,398,399,400,401,402,403,404,405,406,407,408,409,410,411,412,413,414,415,416,417,418,419,420,421,422,423,424,425,426,427,428,429,430,431,432,433,434,435,436,437,438,439,440,441,442,443,444,445,446,447,448) have mixed types. Specify dtype option on import or set low_memory=False.\n",
      "  GEN_loaded = pd.read_csv(datos_path+'GEN_total.csv')\n"
     ]
    }
   ],
   "source": [
    "GEN_loaded = pd.read_csv(datos_path+'GEN_total.csv')"
   ]
  },
  {
   "cell_type": "code",
   "execution_count": 43,
   "metadata": {},
   "outputs": [
    {
     "data": {
      "text/plain": [
       "0         2021-07-01 00:00:00\n",
       "1         2021-07-01 00:10:00\n",
       "2         2021-07-01 00:20:00\n",
       "3         2021-07-01 00:30:00\n",
       "4         2021-07-01 00:40:00\n",
       "                 ...         \n",
       "135934    2024-01-30 23:20:00\n",
       "135935    2024-01-30 23:30:00\n",
       "135936    2024-01-30 23:40:00\n",
       "135937    2024-01-30 23:50:00\n",
       "135938    2024-01-31 00:00:00\n",
       "Name: Fecha, Length: 135939, dtype: object"
      ]
     },
     "execution_count": 43,
     "metadata": {},
     "output_type": "execute_result"
    }
   ],
   "source": [
    "GEN_loaded['Fecha']"
   ]
  },
  {
   "cell_type": "markdown",
   "metadata": {},
   "source": [
    "### Funcion para levantar las columnas con los nodos que querramos, y guardar en un csv con los nombres de los buses"
   ]
  },
  {
   "cell_type": "code",
   "execution_count": 46,
   "metadata": {},
   "outputs": [],
   "source": [
    "def create_dataset(path, buses, name=None):\n",
    "    original_data = pd.read_csv(path)\n",
    "    clean_data = pd.DataFrame(columns=buses.keys())\n",
    "    clean_data['Fecha'] = pd.to_datetime(clean_data['Fecha'])\n",
    "    for bus in buses:\n",
    "        if bus != 'Fecha':\n",
    "            clean_data[bus] = original_data[bus]\n",
    "            clean_data = clean_data.rename(columns={bus: buses[bus]})\n",
    "            clean_data = clean_data.applymap(convertir_a_cero)\n",
    "    if 'Fecha' in buses:\n",
    "        clean_data['Fecha'] = original_data['Fecha']\n",
    "    if name:\n",
    "        clean_data.to_csv(datos_path + name, index=False)\n",
    "\n",
    "    return clean_data\n",
    "\n",
    "def convertir_a_cero(elemento):\n",
    "    if isinstance(elemento, str):\n",
    "        return 0\n",
    "    else:\n",
    "        return elemento"
   ]
  },
  {
   "cell_type": "code",
   "execution_count": 47,
   "metadata": {},
   "outputs": [
    {
     "name": "stderr",
     "output_type": "stream",
     "text": [
      "/var/folders/pq/p8msjkrx53q8b1ts29trjghw0000gn/T/ipykernel_93294/360215318.py:9: DtypeWarning: Columns (1,2,3,4,5,6,7,8,9,10,11,12,13,14,15,16,17,18,19,20,21,22,23,24,25,26,27,28,29,30,31,32,33,34,35,36,37,38,39,40,41,42,43,44,45,46,47,48,49,50,51,52,53,54,55,56,57,58,59,60,61,62,63,64,65,66,67,68,69,70,71,72,73,74,75,76,77,78,79,80,81,82,83,84,85,86,87,88,89,90,91,92,93,94,95,96,97,98,99,100,101,102,103,104,105,106,107,108,109,110,111,112,113,114,115,116,117,118,119,120,121,122,123,124,125,126,127,128,129,130,131,132,133,134,135,136,137,138,139,140,141,142,143,144,145,146,147,148,149,150,151,152,153,154,155,156,157,158,159,160,161,162,163,164,165,166,167,168,169,170,171,172,173,174,175,176,177,178,179,180,181,182,183,184,185,186,187,188,189,190,191,192,193,194,195,196,197,198,199,200,201,202,203,204,205,206,207,208,209,210,211,212,213,214,215,216,217,218,219,220,221,222,223,224,225,226,227,228,229,230,231,232,233,234,235,236,237,238,239,240,241,242,243,244,245,246,247,248,249,250,251,252,253,254,255,256,257,258,259,260,261,262,263,264,265,266,267,268,269,270,271,272,273,274,275,276,277,278,279,280,281,282,283,284,285,286,287,288,289,290,291,292,293,294,295,296,297,298,299,300,301,302,303,304,305,306,307,308,309,310,311,312,313,314,315,316,317,318,319,320,321,322,323,324,325,326,327,328,329,330,331,332,333,334,335,336,337,338,339,340,341,342,343,344,345,346,347,348,349,350,351,352,353,354,355,356,357,358,359,360,361,362,363,364,365,366,367,368,369,370,371,372,373,374,375,376,377,378,379,380,381,382,383,384,385,386,387,388,389,390,391,392,393,394,395,396,397,398,399,400,401,402,403,404,405,406,407,408,409,410,411,412,413,414,415,416,417,418,419,420,421,422,423,424,425,426,427,428,429,430,431,432,433,434,435,436,437,438,439,440,441,442,443,444,445,446,447,448) have mixed types. Specify dtype option on import or set low_memory=False.\n",
      "  original_data = pd.read_csv(path)\n"
     ]
    },
    {
     "data": {
      "text/html": [
       "<div>\n",
       "<style scoped>\n",
       "    .dataframe tbody tr th:only-of-type {\n",
       "        vertical-align: middle;\n",
       "    }\n",
       "\n",
       "    .dataframe tbody tr th {\n",
       "        vertical-align: top;\n",
       "    }\n",
       "\n",
       "    .dataframe thead th {\n",
       "        text-align: right;\n",
       "    }\n",
       "</style>\n",
       "<table border=\"1\" class=\"dataframe\">\n",
       "  <thead>\n",
       "    <tr style=\"text-align: right;\">\n",
       "      <th></th>\n",
       "      <th>Fecha</th>\n",
       "      <th>90000</th>\n",
       "      <th>91290</th>\n",
       "      <th>92400</th>\n",
       "    </tr>\n",
       "  </thead>\n",
       "  <tbody>\n",
       "    <tr>\n",
       "      <th>0</th>\n",
       "      <td>2021-07-01 00:00:00</td>\n",
       "      <td>0.000</td>\n",
       "      <td>0.000000</td>\n",
       "      <td>0.000000</td>\n",
       "    </tr>\n",
       "    <tr>\n",
       "      <th>1</th>\n",
       "      <td>2021-07-01 00:10:00</td>\n",
       "      <td>0.000</td>\n",
       "      <td>0.000000</td>\n",
       "      <td>0.000000</td>\n",
       "    </tr>\n",
       "    <tr>\n",
       "      <th>2</th>\n",
       "      <td>2021-07-01 00:20:00</td>\n",
       "      <td>0.000</td>\n",
       "      <td>0.000000</td>\n",
       "      <td>0.000000</td>\n",
       "    </tr>\n",
       "    <tr>\n",
       "      <th>3</th>\n",
       "      <td>2021-07-01 00:30:00</td>\n",
       "      <td>0.000</td>\n",
       "      <td>0.000000</td>\n",
       "      <td>0.000000</td>\n",
       "    </tr>\n",
       "    <tr>\n",
       "      <th>4</th>\n",
       "      <td>2021-07-01 00:40:00</td>\n",
       "      <td>0.000</td>\n",
       "      <td>0.000000</td>\n",
       "      <td>0.000000</td>\n",
       "    </tr>\n",
       "    <tr>\n",
       "      <th>...</th>\n",
       "      <td>...</td>\n",
       "      <td>...</td>\n",
       "      <td>...</td>\n",
       "      <td>...</td>\n",
       "    </tr>\n",
       "    <tr>\n",
       "      <th>135934</th>\n",
       "      <td>2024-01-30 23:20:00</td>\n",
       "      <td>0.185</td>\n",
       "      <td>-14.612934</td>\n",
       "      <td>0.153615</td>\n",
       "    </tr>\n",
       "    <tr>\n",
       "      <th>135935</th>\n",
       "      <td>2024-01-30 23:30:00</td>\n",
       "      <td>0.185</td>\n",
       "      <td>-14.568834</td>\n",
       "      <td>0.153615</td>\n",
       "    </tr>\n",
       "    <tr>\n",
       "      <th>135936</th>\n",
       "      <td>2024-01-30 23:40:00</td>\n",
       "      <td>0.185</td>\n",
       "      <td>-14.568834</td>\n",
       "      <td>0.153615</td>\n",
       "    </tr>\n",
       "    <tr>\n",
       "      <th>135937</th>\n",
       "      <td>2024-01-30 23:50:00</td>\n",
       "      <td>0.185</td>\n",
       "      <td>-15.699850</td>\n",
       "      <td>0.153615</td>\n",
       "    </tr>\n",
       "    <tr>\n",
       "      <th>135938</th>\n",
       "      <td>2024-01-31 00:00:00</td>\n",
       "      <td>0.185</td>\n",
       "      <td>-14.524735</td>\n",
       "      <td>0.153615</td>\n",
       "    </tr>\n",
       "  </tbody>\n",
       "</table>\n",
       "<p>135939 rows × 4 columns</p>\n",
       "</div>"
      ],
      "text/plain": [
       "                      Fecha  90000      91290     92400\n",
       "0       2021-07-01 00:00:00  0.000   0.000000  0.000000\n",
       "1       2021-07-01 00:10:00  0.000   0.000000  0.000000\n",
       "2       2021-07-01 00:20:00  0.000   0.000000  0.000000\n",
       "3       2021-07-01 00:30:00  0.000   0.000000  0.000000\n",
       "4       2021-07-01 00:40:00  0.000   0.000000  0.000000\n",
       "...                     ...    ...        ...       ...\n",
       "135934  2024-01-30 23:20:00  0.185 -14.612934  0.153615\n",
       "135935  2024-01-30 23:30:00  0.185 -14.568834  0.153615\n",
       "135936  2024-01-30 23:40:00  0.185 -14.568834  0.153615\n",
       "135937  2024-01-30 23:50:00  0.185 -15.699850  0.153615\n",
       "135938  2024-01-31 00:00:00  0.185 -14.524735  0.153615\n",
       "\n",
       "[135939 rows x 4 columns]"
      ]
     },
     "execution_count": 47,
     "metadata": {},
     "output_type": "execute_result"
    }
   ],
   "source": [
    "\n",
    "buses = {'Fecha': 'Fecha',\n",
    "        'VILLAROD.030 GE EOL MED Q.AV': '90000',\n",
    "         'TMACIEL2.030 GE EOL MED Q.AV': '91290',\n",
    "         'ACIELO.000 GE INV MED P.AV': '92400'}\n",
    "\n",
    "create_dataset(datos_path+'GEN_total.csv', buses)"
   ]
  },
  {
   "cell_type": "code",
   "execution_count": null,
   "metadata": {},
   "outputs": [],
   "source": []
  }
 ],
 "metadata": {
  "kernelspec": {
   "display_name": "proyecto",
   "language": "python",
   "name": "python3"
  },
  "language_info": {
   "codemirror_mode": {
    "name": "ipython",
    "version": 3
   },
   "file_extension": ".py",
   "mimetype": "text/x-python",
   "name": "python",
   "nbconvert_exporter": "python",
   "pygments_lexer": "ipython3",
   "version": "3.8.18"
  }
 },
 "nbformat": 4,
 "nbformat_minor": 2
}
