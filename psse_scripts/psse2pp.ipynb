{
 "cells": [
  {
   "cell_type": "code",
   "execution_count": 8,
   "metadata": {},
   "outputs": [
    {
     "ename": "ModuleNotFoundError",
     "evalue": "No module named 'bus_data_df'",
     "output_type": "error",
     "traceback": [
      "\u001b[1;31m---------------------------------------------------------------------------\u001b[0m",
      "\u001b[1;31mModuleNotFoundError\u001b[0m                       Traceback (most recent call last)",
      "Cell \u001b[1;32mIn[8], line 1\u001b[0m\n\u001b[1;32m----> 1\u001b[0m \u001b[38;5;28;01mimport\u001b[39;00m \u001b[38;5;21;01mbus_data_df\u001b[39;00m\u001b[38;5;241m,\u001b[39m \u001b[38;5;21;01mload_data_df\u001b[39;00m\u001b[38;5;241m,\u001b[39m \u001b[38;5;21;01mgenerator_data_df\u001b[39;00m\u001b[38;5;241m,\u001b[39m \u001b[38;5;21;01mfixed_shunt_data_df\u001b[39;00m\u001b[38;5;241m,\u001b[39m \u001b[38;5;21;01mbranch_data_df\u001b[39;00m\u001b[38;5;241m,\u001b[39m \u001b[38;5;21;01mtrafo_data_df\u001b[39;00m\u001b[38;5;241m,\u001b[39m \u001b[38;5;21;01mswitched_shunt_data_df\u001b[39;00m\n\u001b[0;32m      2\u001b[0m \u001b[38;5;28;01mimport\u001b[39;00m \u001b[38;5;21;01mpandas\u001b[39;00m \u001b[38;5;28;01mas\u001b[39;00m \u001b[38;5;21;01mpd\u001b[39;00m\n\u001b[0;32m      3\u001b[0m \u001b[38;5;28;01mimport\u001b[39;00m \u001b[38;5;21;01mpandapower\u001b[39;00m \u001b[38;5;28;01mas\u001b[39;00m \u001b[38;5;21;01mpp\u001b[39;00m\n",
      "\u001b[1;31mModuleNotFoundError\u001b[0m: No module named 'bus_data_df'"
     ]
    }
   ],
   "source": [
    "from parser import bus_data_df, load_data_df, generator_data_df, fixed_shunt_data_df, branch_data_df, trafo_data_df, switched_shunt_data_df\n",
    "import pandas as pd\n",
    "import pandapower as pp\n",
    "\n",
    "raw_file = './psse_scripts/DORAA_una_carga.raw'\n",
    "\n"
   ]
  },
  {
   "cell_type": "code",
   "execution_count": 4,
   "metadata": {},
   "outputs": [
    {
     "ename": "NameError",
     "evalue": "name 'bus_data_df' is not defined",
     "output_type": "error",
     "traceback": [
      "\u001b[1;31m---------------------------------------------------------------------------\u001b[0m",
      "\u001b[1;31mNameError\u001b[0m                                 Traceback (most recent call last)",
      "Cell \u001b[1;32mIn[4], line 1\u001b[0m\n\u001b[1;32m----> 1\u001b[0m bus_data \u001b[38;5;241m=\u001b[39m \u001b[43mbus_data_df\u001b[49m(raw_file)\n\u001b[0;32m      2\u001b[0m load_data \u001b[38;5;241m=\u001b[39m load_data_df(raw_file)\n\u001b[0;32m      3\u001b[0m gen_data \u001b[38;5;241m=\u001b[39m generator_data_df(raw_file)\n",
      "\u001b[1;31mNameError\u001b[0m: name 'bus_data_df' is not defined"
     ]
    }
   ],
   "source": [
    "bus_data = bus_data_df(raw_file)\n",
    "load_data = load_data_df(raw_file)\n",
    "gen_data = generator_data_df(raw_file)\n",
    "shunt_data = fixed_shunt_data_df(raw_file)\n",
    "branch_data = branch_data_df(raw_file)\n",
    "trafo_data = trafo_data_df(raw_file)\n",
    "switched_shunt_data = switched_shunt_data_df(raw_file)"
   ]
  }
 ],
 "metadata": {
  "kernelspec": {
   "display_name": "fing",
   "language": "python",
   "name": "python3"
  },
  "language_info": {
   "codemirror_mode": {
    "name": "ipython",
    "version": 3
   },
   "file_extension": ".py",
   "mimetype": "text/x-python",
   "name": "python",
   "nbconvert_exporter": "python",
   "pygments_lexer": "ipython3",
   "version": "3.9.16"
  }
 },
 "nbformat": 4,
 "nbformat_minor": 2
}
