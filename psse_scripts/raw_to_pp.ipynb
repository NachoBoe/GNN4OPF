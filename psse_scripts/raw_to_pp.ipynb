{
 "cells": [
  {
   "cell_type": "code",
   "execution_count": 1,
   "metadata": {},
   "outputs": [],
   "source": [
    "from parser import bus_data_df, load_data_df, generator_data_df, fixed_shunt_data_df, branch_data_df, trafo_data_df, switched_shunt_data_df\n",
    "import pandas as pd\n",
    "import pandapower as pp\n",
    "import numpy as np\n",
    "import os\n",
    "\n",
    "raw_file = '/Users/tomasvazquez/Desktop/Facultad/Tesis/Datos/DORAA_una_carga.raw'"
   ]
  },
  {
   "cell_type": "markdown",
   "metadata": {},
   "source": [
    "## Cargamos datos del .raw"
   ]
  },
  {
   "cell_type": "code",
   "execution_count": 2,
   "metadata": {},
   "outputs": [],
   "source": [
    "bus_data = bus_data_df(raw_file)\n",
    "load_data = load_data_df(raw_file)\n",
    "generator_data = generator_data_df(raw_file)\n",
    "fixed_shunt_data = fixed_shunt_data_df(raw_file)\n",
    "branch_data = branch_data_df(raw_file)\n",
    "trafo_data = trafo_data_df(raw_file)"
   ]
  },
  {
   "cell_type": "code",
   "execution_count": 3,
   "metadata": {},
   "outputs": [],
   "source": [
    "uy_net = pp.create_empty_network()\n",
    "ieee_30 = pp.networks.case_ieee30()"
   ]
  },
  {
   "cell_type": "markdown",
   "metadata": {},
   "source": [
    "### Cargamos bus data"
   ]
  },
  {
   "cell_type": "code",
   "execution_count": 4,
   "metadata": {},
   "outputs": [],
   "source": [
    "for bus in bus_data.index:\n",
    "    pp.create_bus(uy_net, vn_kv=bus_data.loc[bus, 'BASKV'],\n",
    "                            name = bus,\n",
    "                            index=bus_data.loc[bus, 'I'],\n",
    "                            zone = bus_data.loc[bus, 'ZONE'],\n",
    "                            in_service = bus_data.loc[bus, 'IDE'] != 4,\n",
    "                            max_vm_pu = bus_data.loc[bus, 'NVHI'],\n",
    "                            min_vm_pu = bus_data.loc[bus, 'NVLO']\n",
    "                            )"
   ]
  },
  {
   "cell_type": "markdown",
   "metadata": {},
   "source": [
    "### Creamos load data"
   ]
  },
  {
   "cell_type": "code",
   "execution_count": 5,
   "metadata": {},
   "outputs": [],
   "source": [
    "for bus in load_data.index:\n",
    "    pp.create_load(uy_net, bus=int(bus),\n",
    "                    p_mw=load_data.loc[bus, 'PL'],\n",
    "                    q_mvar=load_data.loc[bus, 'QL'],\n",
    "                    name = None,\n",
    "                    index=None,\n",
    "                    in_service = True,\n",
    "                    controllable=False\n",
    "                    )"
   ]
  },
  {
   "cell_type": "markdown",
   "metadata": {},
   "source": [
    "### Creamos fixed shunt data"
   ]
  },
  {
   "cell_type": "code",
   "execution_count": 6,
   "metadata": {},
   "outputs": [],
   "source": [
    "for idx in fixed_shunt_data.index:\n",
    "    pp.create_shunt(uy_net, bus=int(fixed_shunt_data.loc[idx, 'I']),\n",
    "                    q_mvar=fixed_shunt_data.loc[idx, 'BL'],\n",
    "                    p_mw=fixed_shunt_data.loc[idx, 'GL'],\n",
    "                    )"
   ]
  },
  {
   "cell_type": "markdown",
   "metadata": {},
   "source": [
    "### Creamos generator data"
   ]
  },
  {
   "cell_type": "code",
   "execution_count": 7,
   "metadata": {},
   "outputs": [],
   "source": [
    "previous_bus = None\n",
    "\n",
    "for bus in generator_data.index:\n",
    "    if bus != '4000':\n",
    "        if bus != previous_bus:\n",
    "            previous_bus = bus\n",
    "            pp.create.create_gen(uy_net, bus=int(bus),\n",
    "                            p_mw=generator_data.loc[bus, 'PG'].sum(),\n",
    "                            vm_pu=generator_data.loc[bus, 'VS'].sum(),\n",
    "                            name = None,\n",
    "                            index=None,\n",
    "                            in_service = True,\n",
    "                            controllable=True,\n",
    "                            max_p_mw = generator_data.loc[bus, 'PT'].sum(),\n",
    "                            min_p_mw = generator_data.loc[bus, 'PB'].sum(),\n",
    "                            max_q_mvar = generator_data.loc[bus, 'QT'].sum(),\n",
    "                            min_q_mvar = generator_data.loc[bus, 'QB'].sum(),\n",
    "                            )\n",
    "    else:\n",
    "        if bus != previous_bus:\n",
    "            previous_bus = bus\n",
    "            pp.create.create_ext_grid(uy_net, bus=int(bus),\n",
    "                            vm_pu=generator_data.loc[bus, 'VS'].sum(),\n",
    "                            name = None,\n",
    "                            in_service = True,\n",
    "                            max_p_mw = generator_data.loc[bus, 'PT'].sum(),\n",
    "                            min_p_mw = generator_data.loc[bus, 'PB'].sum(),\n",
    "                            max_q_mvar = generator_data.loc[bus, 'QT'].sum(),\n",
    "                            min_q_mvar = generator_data.loc[bus, 'QB'].sum(),\n",
    "                            )"
   ]
  },
  {
   "cell_type": "markdown",
   "metadata": {},
   "source": [
    "### Creamos branch data"
   ]
  },
  {
   "cell_type": "code",
   "execution_count": 8,
   "metadata": {},
   "outputs": [],
   "source": [
    "for idx in branch_data.index:\n",
    "    pp.create_line_from_parameters(uy_net, from_bus=int(branch_data.loc[idx, 'I']),\n",
    "                    to_bus=int(branch_data.loc[idx, 'J']),\n",
    "                    length_km=1,\n",
    "                    r_ohm_per_km=branch_data.loc[idx, 'R'],\n",
    "                    x_ohm_per_km=branch_data.loc[idx, 'X'],\n",
    "                    c_nf_per_km=branch_data.loc[idx, 'B']/(2*np.pi*50),\n",
    "                    max_i_ka=float(branch_data.loc[idx, 'RATE1']) / (np.sqrt(3) * uy_net.bus.loc[int(branch_data.loc[idx, 'I'])]['vn_kv']),\n",
    "                    name=None,\n",
    "                    index=None,\n",
    "                    in_service=True,\n",
    "                    )"
   ]
  },
  {
   "cell_type": "markdown",
   "metadata": {},
   "source": [
    "### Creando transfomer data"
   ]
  },
  {
   "cell_type": "code",
   "execution_count": 9,
   "metadata": {},
   "outputs": [],
   "source": [
    "for idx in trafo_data.index:\n",
    "    pp.create_transformer_from_parameters(uy_net,\n",
    "                                    hv_bus=int(trafo_data.loc[idx, 'I']),\n",
    "                                    lv_bus=int(trafo_data.loc[idx, 'J']),\n",
    "                                    sn_mva=trafo_data.loc[idx, 'SBASE1-2'],\n",
    "                                    vn_hv_kv = 500,\n",
    "                                    vn_lv_kv = 150,\n",
    "                                    vkr_percent = trafo_data.loc[idx, 'R1-2'] * 100,\n",
    "                                    vk_percent = ((trafo_data.loc[idx, 'R1-2']**2 + trafo_data.loc[idx, 'X1-2']**2)**0.5) * 100,\n",
    "                                    pfe_kw = 0.0,\n",
    "                                    i0_percent = 0.0,\n",
    "                                    in_service = True,\n",
    "                                    vector_group = trafo_data.loc[idx, 'VECGRP'],\n",
    "                                   )"
   ]
  },
  {
   "cell_type": "markdown",
   "metadata": {},
   "source": [
    "### Guardamos la red"
   ]
  },
  {
   "cell_type": "code",
   "execution_count": 10,
   "metadata": {},
   "outputs": [],
   "source": [
    "pp.to_pickle(uy_net, '/Users/tomasvazquez/Desktop/Facultad/Tesis/Datos/uy_pp_net_v1.p')  # absolute path"
   ]
  },
  {
   "cell_type": "markdown",
   "metadata": {},
   "source": [
    "### Visualización de la red"
   ]
  },
  {
   "cell_type": "code",
   "execution_count": 11,
   "metadata": {},
   "outputs": [
    {
     "data": {
      "text/html": [
       "<div>\n",
       "<style scoped>\n",
       "    .dataframe tbody tr th:only-of-type {\n",
       "        vertical-align: middle;\n",
       "    }\n",
       "\n",
       "    .dataframe tbody tr th {\n",
       "        vertical-align: top;\n",
       "    }\n",
       "\n",
       "    .dataframe thead th {\n",
       "        text-align: right;\n",
       "    }\n",
       "</style>\n",
       "<table border=\"1\" class=\"dataframe\">\n",
       "  <thead>\n",
       "    <tr style=\"text-align: right;\">\n",
       "      <th></th>\n",
       "      <th>name</th>\n",
       "      <th>bus</th>\n",
       "      <th>vm_pu</th>\n",
       "      <th>va_degree</th>\n",
       "      <th>slack_weight</th>\n",
       "      <th>in_service</th>\n",
       "      <th>min_p_mw</th>\n",
       "      <th>max_p_mw</th>\n",
       "      <th>min_q_mvar</th>\n",
       "      <th>max_q_mvar</th>\n",
       "    </tr>\n",
       "  </thead>\n",
       "  <tbody>\n",
       "    <tr>\n",
       "      <th>0</th>\n",
       "      <td>None</td>\n",
       "      <td>4000</td>\n",
       "      <td>6.00943</td>\n",
       "      <td>0.0</td>\n",
       "      <td>1.0</td>\n",
       "      <td>True</td>\n",
       "      <td>350.0</td>\n",
       "      <td>945.0</td>\n",
       "      <td>-350.1</td>\n",
       "      <td>560.0</td>\n",
       "    </tr>\n",
       "  </tbody>\n",
       "</table>\n",
       "</div>"
      ],
      "text/plain": [
       "   name   bus    vm_pu  va_degree  slack_weight  in_service  min_p_mw  \\\n",
       "0  None  4000  6.00943        0.0           1.0        True     350.0   \n",
       "\n",
       "   max_p_mw  min_q_mvar  max_q_mvar  \n",
       "0     945.0      -350.1       560.0  "
      ]
     },
     "execution_count": 11,
     "metadata": {},
     "output_type": "execute_result"
    }
   ],
   "source": [
    "uy_net.ext_grid"
   ]
  }
 ],
 "metadata": {
  "kernelspec": {
   "display_name": "proyecto",
   "language": "python",
   "name": "python3"
  },
  "language_info": {
   "codemirror_mode": {
    "name": "ipython",
    "version": 3
   },
   "file_extension": ".py",
   "mimetype": "text/x-python",
   "name": "python",
   "nbconvert_exporter": "python",
   "pygments_lexer": "ipython3",
   "version": "3.8.18"
  }
 },
 "nbformat": 4,
 "nbformat_minor": 2
}
