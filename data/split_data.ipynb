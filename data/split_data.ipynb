{
 "cells": [
  {
   "cell_type": "code",
   "execution_count": 7,
   "metadata": {},
   "outputs": [
    {
     "name": "stdout",
     "output_type": "stream",
     "text": [
      "(9437, 118, 3)\n",
      "(9437, 118, 1)\n"
     ]
    }
   ],
   "source": [
    "import numpy as np\n",
    "\n",
    "red = './red118'\n",
    "# Load input.npy file\n",
    "input = np.load(red+'/input.npy')\n",
    "# Load vm_pu_opt.npy\n",
    "vm_pu_opt = np.load(red+'/vm_pu_opt.npy')\n",
    "\n",
    "print(input.shape)\n",
    "print(vm_pu_opt.shape)"
   ]
  },
  {
   "cell_type": "code",
   "execution_count": 8,
   "metadata": {},
   "outputs": [],
   "source": [
    "# Concatenate two arrays\n",
    "output = np.concatenate((input, vm_pu_opt), axis=2)\n",
    "\n",
    "# Do train, test and validation split\n",
    "np.random.shuffle(output)\n",
    "train = output[0:int(output.shape[0]*0.77)]\n",
    "val = output[int(output.shape[0]*0.77):int(output.shape[0]*0.93)]\n",
    "test = output[int(output.shape[0]*0.93):]"
   ]
  },
  {
   "cell_type": "code",
   "execution_count": 9,
   "metadata": {},
   "outputs": [],
   "source": [
    "# save train.npy\n",
    "np.save(red+'/train/input.npy', train[:, :, :3])\n",
    "np.save(red+'/train/vm_pu_opt.npy', train[:, :, 3])\n",
    "np.save(red+'/val/input.npy', val[:, :, :3])\n",
    "np.save(red+'/val/vm_pu_opt.npy', val[:, :, 3])\n",
    "np.save(red+'/test/input.npy', test[:, :, :3])\n",
    "np.save(red+'/test/vm_pu_opt.npy', test[:, :, 3])"
   ]
  }
 ],
 "metadata": {
  "kernelspec": {
   "display_name": "proy",
   "language": "python",
   "name": "python3"
  },
  "language_info": {
   "codemirror_mode": {
    "name": "ipython",
    "version": 3
   },
   "file_extension": ".py",
   "mimetype": "text/x-python",
   "name": "python",
   "nbconvert_exporter": "python",
   "pygments_lexer": "ipython3",
   "version": "3.11.7"
  }
 },
 "nbformat": 4,
 "nbformat_minor": 2
}
